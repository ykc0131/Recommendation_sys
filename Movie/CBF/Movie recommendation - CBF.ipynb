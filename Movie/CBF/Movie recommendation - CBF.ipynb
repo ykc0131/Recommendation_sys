{
 "cells": [
  {
   "cell_type": "code",
   "execution_count": null,
   "id": "emotional-match",
   "metadata": {},
   "outputs": [],
   "source": []
  },
  {
   "cell_type": "markdown",
   "id": "paperback-trunk",
   "metadata": {},
   "source": [
    "## 데이터 출처"
   ]
  },
  {
   "cell_type": "markdown",
   "id": "varied-privilege",
   "metadata": {},
   "source": [
    "https://www.kaggle.com/rounakbanik/the-movies-dataset"
   ]
  },
  {
   "cell_type": "markdown",
   "id": "desperate-convergence",
   "metadata": {},
   "source": [
    "## Import Library (step.01)"
   ]
  },
  {
   "cell_type": "code",
   "execution_count": 1,
   "id": "certain-birmingham",
   "metadata": {},
   "outputs": [],
   "source": [
    "import pandas as pd\n",
    "import numpy as np\n",
    "\n",
    "import warnings; warnings.filterwarnings('ignore')\n",
    "\n",
    "#문자열 파싱 라이브러리\n",
    "from ast import literal_eval\n",
    "\n",
    "#Bow\n",
    "from sklearn.feature_extraction.text import CountVectorizer\n",
    "\n",
    "#cosine similarity\n",
    "from sklearn.metrics.pairwise import cosine_similarity"
   ]
  },
  {
   "cell_type": "markdown",
   "id": "introductory-journal",
   "metadata": {},
   "source": [
    "## Data Process (step.02)"
   ]
  },
  {
   "cell_type": "code",
   "execution_count": 2,
   "id": "loose-concert",
   "metadata": {},
   "outputs": [],
   "source": [
    "movies = pd.read_csv('movies_metadata.csv')"
   ]
  },
  {
   "cell_type": "code",
   "execution_count": 3,
   "id": "negative-mason",
   "metadata": {},
   "outputs": [
    {
     "name": "stdout",
     "output_type": "stream",
     "text": [
      "(45466, 24)\n"
     ]
    },
    {
     "data": {
      "text/html": [
       "<div>\n",
       "<style scoped>\n",
       "    .dataframe tbody tr th:only-of-type {\n",
       "        vertical-align: middle;\n",
       "    }\n",
       "\n",
       "    .dataframe tbody tr th {\n",
       "        vertical-align: top;\n",
       "    }\n",
       "\n",
       "    .dataframe thead th {\n",
       "        text-align: right;\n",
       "    }\n",
       "</style>\n",
       "<table border=\"1\" class=\"dataframe\">\n",
       "  <thead>\n",
       "    <tr style=\"text-align: right;\">\n",
       "      <th></th>\n",
       "      <th>adult</th>\n",
       "      <th>belongs_to_collection</th>\n",
       "      <th>budget</th>\n",
       "      <th>genres</th>\n",
       "      <th>homepage</th>\n",
       "      <th>id</th>\n",
       "      <th>imdb_id</th>\n",
       "      <th>original_language</th>\n",
       "      <th>original_title</th>\n",
       "      <th>overview</th>\n",
       "      <th>...</th>\n",
       "      <th>release_date</th>\n",
       "      <th>revenue</th>\n",
       "      <th>runtime</th>\n",
       "      <th>spoken_languages</th>\n",
       "      <th>status</th>\n",
       "      <th>tagline</th>\n",
       "      <th>title</th>\n",
       "      <th>video</th>\n",
       "      <th>vote_average</th>\n",
       "      <th>vote_count</th>\n",
       "    </tr>\n",
       "  </thead>\n",
       "  <tbody>\n",
       "    <tr>\n",
       "      <th>0</th>\n",
       "      <td>False</td>\n",
       "      <td>{'id': 10194, 'name': 'Toy Story Collection', ...</td>\n",
       "      <td>30000000</td>\n",
       "      <td>[{'id': 16, 'name': 'Animation'}, {'id': 35, '...</td>\n",
       "      <td>http://toystory.disney.com/toy-story</td>\n",
       "      <td>862</td>\n",
       "      <td>tt0114709</td>\n",
       "      <td>en</td>\n",
       "      <td>Toy Story</td>\n",
       "      <td>Led by Woody, Andy's toys live happily in his ...</td>\n",
       "      <td>...</td>\n",
       "      <td>1995-10-30</td>\n",
       "      <td>373554033.0</td>\n",
       "      <td>81.0</td>\n",
       "      <td>[{'iso_639_1': 'en', 'name': 'English'}]</td>\n",
       "      <td>Released</td>\n",
       "      <td>NaN</td>\n",
       "      <td>Toy Story</td>\n",
       "      <td>False</td>\n",
       "      <td>7.7</td>\n",
       "      <td>5415.0</td>\n",
       "    </tr>\n",
       "    <tr>\n",
       "      <th>1</th>\n",
       "      <td>False</td>\n",
       "      <td>NaN</td>\n",
       "      <td>65000000</td>\n",
       "      <td>[{'id': 12, 'name': 'Adventure'}, {'id': 14, '...</td>\n",
       "      <td>NaN</td>\n",
       "      <td>8844</td>\n",
       "      <td>tt0113497</td>\n",
       "      <td>en</td>\n",
       "      <td>Jumanji</td>\n",
       "      <td>When siblings Judy and Peter discover an encha...</td>\n",
       "      <td>...</td>\n",
       "      <td>1995-12-15</td>\n",
       "      <td>262797249.0</td>\n",
       "      <td>104.0</td>\n",
       "      <td>[{'iso_639_1': 'en', 'name': 'English'}, {'iso...</td>\n",
       "      <td>Released</td>\n",
       "      <td>Roll the dice and unleash the excitement!</td>\n",
       "      <td>Jumanji</td>\n",
       "      <td>False</td>\n",
       "      <td>6.9</td>\n",
       "      <td>2413.0</td>\n",
       "    </tr>\n",
       "    <tr>\n",
       "      <th>2</th>\n",
       "      <td>False</td>\n",
       "      <td>{'id': 119050, 'name': 'Grumpy Old Men Collect...</td>\n",
       "      <td>0</td>\n",
       "      <td>[{'id': 10749, 'name': 'Romance'}, {'id': 35, ...</td>\n",
       "      <td>NaN</td>\n",
       "      <td>15602</td>\n",
       "      <td>tt0113228</td>\n",
       "      <td>en</td>\n",
       "      <td>Grumpier Old Men</td>\n",
       "      <td>A family wedding reignites the ancient feud be...</td>\n",
       "      <td>...</td>\n",
       "      <td>1995-12-22</td>\n",
       "      <td>0.0</td>\n",
       "      <td>101.0</td>\n",
       "      <td>[{'iso_639_1': 'en', 'name': 'English'}]</td>\n",
       "      <td>Released</td>\n",
       "      <td>Still Yelling. Still Fighting. Still Ready for...</td>\n",
       "      <td>Grumpier Old Men</td>\n",
       "      <td>False</td>\n",
       "      <td>6.5</td>\n",
       "      <td>92.0</td>\n",
       "    </tr>\n",
       "    <tr>\n",
       "      <th>3</th>\n",
       "      <td>False</td>\n",
       "      <td>NaN</td>\n",
       "      <td>16000000</td>\n",
       "      <td>[{'id': 35, 'name': 'Comedy'}, {'id': 18, 'nam...</td>\n",
       "      <td>NaN</td>\n",
       "      <td>31357</td>\n",
       "      <td>tt0114885</td>\n",
       "      <td>en</td>\n",
       "      <td>Waiting to Exhale</td>\n",
       "      <td>Cheated on, mistreated and stepped on, the wom...</td>\n",
       "      <td>...</td>\n",
       "      <td>1995-12-22</td>\n",
       "      <td>81452156.0</td>\n",
       "      <td>127.0</td>\n",
       "      <td>[{'iso_639_1': 'en', 'name': 'English'}]</td>\n",
       "      <td>Released</td>\n",
       "      <td>Friends are the people who let you be yourself...</td>\n",
       "      <td>Waiting to Exhale</td>\n",
       "      <td>False</td>\n",
       "      <td>6.1</td>\n",
       "      <td>34.0</td>\n",
       "    </tr>\n",
       "    <tr>\n",
       "      <th>4</th>\n",
       "      <td>False</td>\n",
       "      <td>{'id': 96871, 'name': 'Father of the Bride Col...</td>\n",
       "      <td>0</td>\n",
       "      <td>[{'id': 35, 'name': 'Comedy'}]</td>\n",
       "      <td>NaN</td>\n",
       "      <td>11862</td>\n",
       "      <td>tt0113041</td>\n",
       "      <td>en</td>\n",
       "      <td>Father of the Bride Part II</td>\n",
       "      <td>Just when George Banks has recovered from his ...</td>\n",
       "      <td>...</td>\n",
       "      <td>1995-02-10</td>\n",
       "      <td>76578911.0</td>\n",
       "      <td>106.0</td>\n",
       "      <td>[{'iso_639_1': 'en', 'name': 'English'}]</td>\n",
       "      <td>Released</td>\n",
       "      <td>Just When His World Is Back To Normal... He's ...</td>\n",
       "      <td>Father of the Bride Part II</td>\n",
       "      <td>False</td>\n",
       "      <td>5.7</td>\n",
       "      <td>173.0</td>\n",
       "    </tr>\n",
       "  </tbody>\n",
       "</table>\n",
       "<p>5 rows × 24 columns</p>\n",
       "</div>"
      ],
      "text/plain": [
       "   adult                              belongs_to_collection    budget  \\\n",
       "0  False  {'id': 10194, 'name': 'Toy Story Collection', ...  30000000   \n",
       "1  False                                                NaN  65000000   \n",
       "2  False  {'id': 119050, 'name': 'Grumpy Old Men Collect...         0   \n",
       "3  False                                                NaN  16000000   \n",
       "4  False  {'id': 96871, 'name': 'Father of the Bride Col...         0   \n",
       "\n",
       "                                              genres  \\\n",
       "0  [{'id': 16, 'name': 'Animation'}, {'id': 35, '...   \n",
       "1  [{'id': 12, 'name': 'Adventure'}, {'id': 14, '...   \n",
       "2  [{'id': 10749, 'name': 'Romance'}, {'id': 35, ...   \n",
       "3  [{'id': 35, 'name': 'Comedy'}, {'id': 18, 'nam...   \n",
       "4                     [{'id': 35, 'name': 'Comedy'}]   \n",
       "\n",
       "                               homepage     id    imdb_id original_language  \\\n",
       "0  http://toystory.disney.com/toy-story    862  tt0114709                en   \n",
       "1                                   NaN   8844  tt0113497                en   \n",
       "2                                   NaN  15602  tt0113228                en   \n",
       "3                                   NaN  31357  tt0114885                en   \n",
       "4                                   NaN  11862  tt0113041                en   \n",
       "\n",
       "                original_title  \\\n",
       "0                    Toy Story   \n",
       "1                      Jumanji   \n",
       "2             Grumpier Old Men   \n",
       "3            Waiting to Exhale   \n",
       "4  Father of the Bride Part II   \n",
       "\n",
       "                                            overview  ... release_date  \\\n",
       "0  Led by Woody, Andy's toys live happily in his ...  ...   1995-10-30   \n",
       "1  When siblings Judy and Peter discover an encha...  ...   1995-12-15   \n",
       "2  A family wedding reignites the ancient feud be...  ...   1995-12-22   \n",
       "3  Cheated on, mistreated and stepped on, the wom...  ...   1995-12-22   \n",
       "4  Just when George Banks has recovered from his ...  ...   1995-02-10   \n",
       "\n",
       "       revenue runtime                                   spoken_languages  \\\n",
       "0  373554033.0    81.0           [{'iso_639_1': 'en', 'name': 'English'}]   \n",
       "1  262797249.0   104.0  [{'iso_639_1': 'en', 'name': 'English'}, {'iso...   \n",
       "2          0.0   101.0           [{'iso_639_1': 'en', 'name': 'English'}]   \n",
       "3   81452156.0   127.0           [{'iso_639_1': 'en', 'name': 'English'}]   \n",
       "4   76578911.0   106.0           [{'iso_639_1': 'en', 'name': 'English'}]   \n",
       "\n",
       "     status                                            tagline  \\\n",
       "0  Released                                                NaN   \n",
       "1  Released          Roll the dice and unleash the excitement!   \n",
       "2  Released  Still Yelling. Still Fighting. Still Ready for...   \n",
       "3  Released  Friends are the people who let you be yourself...   \n",
       "4  Released  Just When His World Is Back To Normal... He's ...   \n",
       "\n",
       "                         title  video vote_average vote_count  \n",
       "0                    Toy Story  False          7.7     5415.0  \n",
       "1                      Jumanji  False          6.9     2413.0  \n",
       "2             Grumpier Old Men  False          6.5       92.0  \n",
       "3            Waiting to Exhale  False          6.1       34.0  \n",
       "4  Father of the Bride Part II  False          5.7      173.0  \n",
       "\n",
       "[5 rows x 24 columns]"
      ]
     },
     "execution_count": 3,
     "metadata": {},
     "output_type": "execute_result"
    }
   ],
   "source": [
    "print(movies.shape)\n",
    "movies.head(5)"
   ]
  },
  {
   "cell_type": "code",
   "execution_count": 4,
   "id": "particular-separation",
   "metadata": {},
   "outputs": [
    {
     "data": {
      "text/html": [
       "<div>\n",
       "<style scoped>\n",
       "    .dataframe tbody tr th:only-of-type {\n",
       "        vertical-align: middle;\n",
       "    }\n",
       "\n",
       "    .dataframe tbody tr th {\n",
       "        vertical-align: top;\n",
       "    }\n",
       "\n",
       "    .dataframe thead th {\n",
       "        text-align: right;\n",
       "    }\n",
       "</style>\n",
       "<table border=\"1\" class=\"dataframe\">\n",
       "  <thead>\n",
       "    <tr style=\"text-align: right;\">\n",
       "      <th></th>\n",
       "      <th>id</th>\n",
       "      <th>genres</th>\n",
       "      <th>imdb_id</th>\n",
       "      <th>original_language</th>\n",
       "      <th>original_title</th>\n",
       "      <th>title</th>\n",
       "      <th>vote_average</th>\n",
       "      <th>vote_count</th>\n",
       "    </tr>\n",
       "  </thead>\n",
       "  <tbody>\n",
       "    <tr>\n",
       "      <th>0</th>\n",
       "      <td>862</td>\n",
       "      <td>[{'id': 16, 'name': 'Animation'}, {'id': 35, '...</td>\n",
       "      <td>tt0114709</td>\n",
       "      <td>en</td>\n",
       "      <td>Toy Story</td>\n",
       "      <td>Toy Story</td>\n",
       "      <td>7.7</td>\n",
       "      <td>5415.0</td>\n",
       "    </tr>\n",
       "    <tr>\n",
       "      <th>1</th>\n",
       "      <td>8844</td>\n",
       "      <td>[{'id': 12, 'name': 'Adventure'}, {'id': 14, '...</td>\n",
       "      <td>tt0113497</td>\n",
       "      <td>en</td>\n",
       "      <td>Jumanji</td>\n",
       "      <td>Jumanji</td>\n",
       "      <td>6.9</td>\n",
       "      <td>2413.0</td>\n",
       "    </tr>\n",
       "    <tr>\n",
       "      <th>2</th>\n",
       "      <td>15602</td>\n",
       "      <td>[{'id': 10749, 'name': 'Romance'}, {'id': 35, ...</td>\n",
       "      <td>tt0113228</td>\n",
       "      <td>en</td>\n",
       "      <td>Grumpier Old Men</td>\n",
       "      <td>Grumpier Old Men</td>\n",
       "      <td>6.5</td>\n",
       "      <td>92.0</td>\n",
       "    </tr>\n",
       "  </tbody>\n",
       "</table>\n",
       "</div>"
      ],
      "text/plain": [
       "      id                                             genres    imdb_id  \\\n",
       "0    862  [{'id': 16, 'name': 'Animation'}, {'id': 35, '...  tt0114709   \n",
       "1   8844  [{'id': 12, 'name': 'Adventure'}, {'id': 14, '...  tt0113497   \n",
       "2  15602  [{'id': 10749, 'name': 'Romance'}, {'id': 35, ...  tt0113228   \n",
       "\n",
       "  original_language    original_title             title  vote_average  \\\n",
       "0                en         Toy Story         Toy Story           7.7   \n",
       "1                en           Jumanji           Jumanji           6.9   \n",
       "2                en  Grumpier Old Men  Grumpier Old Men           6.5   \n",
       "\n",
       "   vote_count  \n",
       "0      5415.0  \n",
       "1      2413.0  \n",
       "2        92.0  "
      ]
     },
     "execution_count": 4,
     "metadata": {},
     "output_type": "execute_result"
    }
   ],
   "source": [
    "#필요한 컬럼만 추출\n",
    "movies_df = movies[['id','genres','imdb_id','original_language','original_title', 'title', 'vote_average','vote_count']]\n",
    "movies_df.head(3)"
   ]
  },
  {
   "cell_type": "code",
   "execution_count": 5,
   "id": "impaired-morris",
   "metadata": {
    "scrolled": true
   },
   "outputs": [
    {
     "data": {
      "text/plain": [
       "\"[{'id': 16, 'name': 'Animation'}, {'id': 35, 'name': 'Comedy'}, {'id': 10751, 'name': 'Family'}]\""
      ]
     },
     "execution_count": 5,
     "metadata": {},
     "output_type": "execute_result"
    }
   ],
   "source": [
    "movies_df['genres'][0]"
   ]
  },
  {
   "cell_type": "code",
   "execution_count": 6,
   "id": "subsequent-empty",
   "metadata": {},
   "outputs": [
    {
     "data": {
      "text/plain": [
       "str"
      ]
     },
     "execution_count": 6,
     "metadata": {},
     "output_type": "execute_result"
    }
   ],
   "source": [
    "type(movies_df['genres'][0])"
   ]
  },
  {
   "cell_type": "markdown",
   "id": "ethical-scholarship",
   "metadata": {},
   "source": [
    "### genres 칼럼 str 형태를 list 형태로 바꿔주기"
   ]
  },
  {
   "cell_type": "code",
   "execution_count": 7,
   "id": "bearing-daniel",
   "metadata": {},
   "outputs": [],
   "source": [
    "movies_df['genres'] = movies_df['genres'].apply(literal_eval)"
   ]
  },
  {
   "cell_type": "code",
   "execution_count": 8,
   "id": "urban-gabriel",
   "metadata": {},
   "outputs": [
    {
     "data": {
      "text/plain": [
       "[{'id': 16, 'name': 'Animation'},\n",
       " {'id': 35, 'name': 'Comedy'},\n",
       " {'id': 10751, 'name': 'Family'}]"
      ]
     },
     "execution_count": 8,
     "metadata": {},
     "output_type": "execute_result"
    }
   ],
   "source": [
    "movies_df['genres'][0]"
   ]
  },
  {
   "cell_type": "code",
   "execution_count": 9,
   "id": "finite-wiring",
   "metadata": {},
   "outputs": [
    {
     "data": {
      "text/plain": [
       "list"
      ]
     },
     "execution_count": 9,
     "metadata": {},
     "output_type": "execute_result"
    }
   ],
   "source": [
    "type(movies_df['genres'][0])"
   ]
  },
  {
   "cell_type": "code",
   "execution_count": 10,
   "id": "recreational-blowing",
   "metadata": {},
   "outputs": [],
   "source": [
    "movies_df['genres'] = movies_df['genres'].apply(lambda x : [y['name'].lower() for y in x])"
   ]
  },
  {
   "cell_type": "code",
   "execution_count": 11,
   "id": "artificial-webmaster",
   "metadata": {},
   "outputs": [
    {
     "data": {
      "text/html": [
       "<div>\n",
       "<style scoped>\n",
       "    .dataframe tbody tr th:only-of-type {\n",
       "        vertical-align: middle;\n",
       "    }\n",
       "\n",
       "    .dataframe tbody tr th {\n",
       "        vertical-align: top;\n",
       "    }\n",
       "\n",
       "    .dataframe thead th {\n",
       "        text-align: right;\n",
       "    }\n",
       "</style>\n",
       "<table border=\"1\" class=\"dataframe\">\n",
       "  <thead>\n",
       "    <tr style=\"text-align: right;\">\n",
       "      <th></th>\n",
       "      <th>genres</th>\n",
       "    </tr>\n",
       "  </thead>\n",
       "  <tbody>\n",
       "    <tr>\n",
       "      <th>0</th>\n",
       "      <td>[animation, comedy, family]</td>\n",
       "    </tr>\n",
       "    <tr>\n",
       "      <th>1</th>\n",
       "      <td>[adventure, fantasy, family]</td>\n",
       "    </tr>\n",
       "    <tr>\n",
       "      <th>2</th>\n",
       "      <td>[romance, comedy]</td>\n",
       "    </tr>\n",
       "  </tbody>\n",
       "</table>\n",
       "</div>"
      ],
      "text/plain": [
       "                         genres\n",
       "0   [animation, comedy, family]\n",
       "1  [adventure, fantasy, family]\n",
       "2             [romance, comedy]"
      ]
     },
     "execution_count": 11,
     "metadata": {},
     "output_type": "execute_result"
    }
   ],
   "source": [
    "movies_df[['genres']][:3]"
   ]
  },
  {
   "cell_type": "markdown",
   "id": "advised-closure",
   "metadata": {},
   "source": [
    "### CountVectorizer"
   ]
  },
  {
   "cell_type": "code",
   "execution_count": 12,
   "id": "independent-performer",
   "metadata": {},
   "outputs": [],
   "source": [
    "# 1. 문서를 토큰 리스트로 변환한다. \n",
    "# 2. 각 문서에서 토큰의 출현 빈도를 센다. \n",
    "#3. 각 문서를 BOW 인코딩 벡터로 변환한다. \n",
    "count_vector = CountVectorizer(min_df=0, ngram_range=(1,2))"
   ]
  },
  {
   "cell_type": "code",
   "execution_count": 13,
   "id": "architectural-covering",
   "metadata": {
    "scrolled": true
   },
   "outputs": [
    {
     "data": {
      "text/plain": [
       "0         [animation, comedy, family]\n",
       "1        [adventure, fantasy, family]\n",
       "2                   [romance, comedy]\n",
       "3            [comedy, drama, romance]\n",
       "4                            [comedy]\n",
       "                     ...             \n",
       "45461                 [drama, family]\n",
       "45462                         [drama]\n",
       "45463       [action, drama, thriller]\n",
       "45464                              []\n",
       "45465                              []\n",
       "Name: genres, Length: 45466, dtype: object"
      ]
     },
     "execution_count": 13,
     "metadata": {},
     "output_type": "execute_result"
    }
   ],
   "source": [
    "movies_df['genres']"
   ]
  },
  {
   "cell_type": "code",
   "execution_count": 14,
   "id": "distant-james",
   "metadata": {},
   "outputs": [
    {
     "data": {
      "text/plain": [
       "0         animation comedy family\n",
       "1        adventure fantasy family\n",
       "2                  romance comedy\n",
       "3            comedy drama romance\n",
       "4                          comedy\n",
       "                   ...           \n",
       "45461                drama family\n",
       "45462                       drama\n",
       "45463       action drama thriller\n",
       "45464                            \n",
       "45465                            \n",
       "Name: genres_literal, Length: 45466, dtype: object"
      ]
     },
     "execution_count": 14,
     "metadata": {},
     "output_type": "execute_result"
    }
   ],
   "source": [
    "movies_df['genres_literal'] = movies_df['genres'].apply(lambda x : (' ').join(x))\n",
    "movies_df['genres_literal']"
   ]
  },
  {
   "cell_type": "code",
   "execution_count": 15,
   "id": "proud-tribe",
   "metadata": {},
   "outputs": [
    {
     "name": "stdout",
     "output_type": "stream",
     "text": [
      "(45466, 449)\n"
     ]
    }
   ],
   "source": [
    "vector_genres = count_vector.fit_transform(movies_df['genres_literal'])\n",
    "print(vector_genres.shape)"
   ]
  },
  {
   "cell_type": "code",
   "execution_count": 16,
   "id": "incomplete-possession",
   "metadata": {},
   "outputs": [
    {
     "name": "stdout",
     "output_type": "stream",
     "text": [
      "  (0, 40)\t1\n",
      "  (0, 67)\t1\n",
      "  (0, 151)\t1\n",
      "  (0, 43)\t1\n",
      "  (0, 74)\t1\n",
      "  (1, 151)\t1\n",
      "  (1, 20)\t1\n",
      "  (1, 171)\t1\n",
      "  (1, 28)\t1\n",
      "  (1, 179)\t1\n",
      "  (2, 67)\t1\n",
      "  (2, 351)\t1\n",
      "  (2, 355)\t1\n",
      "  (3, 67)\t1\n",
      "  (3, 351)\t1\n",
      "  (3, 129)\t1\n",
      "  (3, 73)\t1\n",
      "  (3, 143)\t1\n",
      "  (4, 67)\t1\n",
      "  (5, 129)\t1\n",
      "  (5, 0)\t1\n",
      "  (5, 89)\t1\n",
      "  (5, 383)\t1\n",
      "  (5, 4)\t1\n",
      "  (5, 95)\t1\n",
      "  :\t:\n",
      "  (45456, 257)\t1\n",
      "  (45456, 320)\t1\n",
      "  (45456, 336)\t1\n",
      "  (45456, 270)\t1\n",
      "  (45457, 257)\t1\n",
      "  (45457, 320)\t1\n",
      "  (45457, 332)\t1\n",
      "  (45458, 257)\t1\n",
      "  (45459, 371)\t1\n",
      "  (45459, 191)\t1\n",
      "  (45459, 372)\t1\n",
      "  (45460, 351)\t1\n",
      "  (45460, 129)\t1\n",
      "  (45460, 0)\t1\n",
      "  (45460, 130)\t1\n",
      "  (45460, 14)\t1\n",
      "  (45461, 151)\t1\n",
      "  (45461, 129)\t1\n",
      "  (45461, 136)\t1\n",
      "  (45462, 129)\t1\n",
      "  (45463, 129)\t1\n",
      "  (45463, 0)\t1\n",
      "  (45463, 383)\t1\n",
      "  (45463, 145)\t1\n",
      "  (45463, 6)\t1\n"
     ]
    }
   ],
   "source": [
    "print(vector_genres)"
   ]
  },
  {
   "cell_type": "code",
   "execution_count": 17,
   "id": "premier-joseph",
   "metadata": {},
   "outputs": [
    {
     "name": "stdout",
     "output_type": "stream",
     "text": [
      "(45466, 46)\n"
     ]
    }
   ],
   "source": [
    "count_vect2 = CountVectorizer(min_df=0, ngram_range=(1, 1)) #min_df: 단어장에 들어갈 최소빈도, ngram_range: 1 <= n <= 2\n",
    "vector_genres2 = count_vect2.fit_transform(movies_df['genres_literal'])\n",
    "print(vector_genres2.shape)"
   ]
  },
  {
   "cell_type": "code",
   "execution_count": 18,
   "id": "superior-threshold",
   "metadata": {},
   "outputs": [
    {
     "name": "stdout",
     "output_type": "stream",
     "text": [
      "  (0, 2)\t1\n",
      "  (0, 7)\t1\n",
      "  (0, 13)\t1\n",
      "  (1, 13)\t1\n",
      "  (1, 1)\t1\n",
      "  (1, 14)\t1\n",
      "  (2, 7)\t1\n",
      "  (2, 33)\t1\n",
      "  (3, 7)\t1\n",
      "  (3, 33)\t1\n",
      "  (3, 11)\t1\n",
      "  (4, 7)\t1\n",
      "  (5, 11)\t1\n",
      "  (5, 0)\t1\n",
      "  (5, 9)\t1\n",
      "  (5, 40)\t1\n",
      "  (6, 7)\t1\n",
      "  (6, 33)\t1\n",
      "  (7, 13)\t1\n",
      "  (7, 1)\t1\n",
      "  (7, 11)\t1\n",
      "  (7, 0)\t1\n",
      "  (8, 1)\t1\n",
      "  (8, 0)\t1\n",
      "  (8, 40)\t1\n",
      "  :\t:\n",
      "  (45451, 7)\t1\n",
      "  (45451, 14)\t1\n",
      "  (45452, 10)\t1\n",
      "  (45453, 11)\t1\n",
      "  (45453, 9)\t1\n",
      "  (45453, 40)\t1\n",
      "  (45454, 7)\t1\n",
      "  (45454, 11)\t1\n",
      "  (45456, 40)\t1\n",
      "  (45456, 22)\t1\n",
      "  (45456, 27)\t1\n",
      "  (45457, 22)\t1\n",
      "  (45457, 27)\t1\n",
      "  (45458, 22)\t1\n",
      "  (45459, 34)\t1\n",
      "  (45459, 15)\t1\n",
      "  (45460, 33)\t1\n",
      "  (45460, 11)\t1\n",
      "  (45460, 0)\t1\n",
      "  (45461, 13)\t1\n",
      "  (45461, 11)\t1\n",
      "  (45462, 11)\t1\n",
      "  (45463, 11)\t1\n",
      "  (45463, 0)\t1\n",
      "  (45463, 40)\t1\n"
     ]
    }
   ],
   "source": [
    "print(vector_genres2)"
   ]
  },
  {
   "cell_type": "code",
   "execution_count": 19,
   "id": "conventional-surfing",
   "metadata": {},
   "outputs": [
    {
     "name": "stdout",
     "output_type": "stream",
     "text": [
      "[[0 0 1 ... 0 0 0]\n",
      " [0 1 0 ... 0 0 0]\n",
      " [0 0 0 ... 0 0 0]\n",
      " ...\n",
      " [1 0 0 ... 0 0 0]\n",
      " [0 0 0 ... 0 0 0]\n",
      " [0 0 0 ... 0 0 0]]\n"
     ]
    }
   ],
   "source": [
    "print(vector_genres2.toarray())"
   ]
  },
  {
   "cell_type": "code",
   "execution_count": 20,
   "id": "black-cotton",
   "metadata": {},
   "outputs": [
    {
     "name": "stdout",
     "output_type": "stream",
     "text": [
      "(45466, 46)\n"
     ]
    }
   ],
   "source": [
    "print(vector_genres2.shape)"
   ]
  },
  {
   "cell_type": "code",
   "execution_count": 21,
   "id": "streaming-organizer",
   "metadata": {},
   "outputs": [
    {
     "name": "stdout",
     "output_type": "stream",
     "text": [
      "['action', 'adventure', 'animation', 'aniplex', 'brosta', 'carousel', 'cartel', 'comedy', 'committee', 'crime', 'documentary', 'drama', 'entertainment', 'family', 'fantasy', 'fiction', 'film', 'filmworks', 'foreign', 'gohands', 'group', 'history', 'horror', 'mardock', 'media', 'movie', 'music', 'mystery', 'odyssey', 'production', 'productions', 'pulser', 'rogue', 'romance', 'science', 'scramble', 'sentai', 'state', 'telescene', 'the', 'thriller', 'tv', 'view', 'vision', 'war', 'western']\n"
     ]
    }
   ],
   "source": [
    "print(count_vect2.get_feature_names())"
   ]
  },
  {
   "cell_type": "markdown",
   "id": "wound-violin",
   "metadata": {},
   "source": [
    "## 코사인 유사도 (cosine_similarity) "
   ]
  },
  {
   "cell_type": "code",
   "execution_count": 22,
   "id": "satisfied-effectiveness",
   "metadata": {},
   "outputs": [
    {
     "name": "stdout",
     "output_type": "stream",
     "text": [
      "[[    0 30729 30861 ... 27112 27113 22732]]\n"
     ]
    }
   ],
   "source": [
    "genre_sim_sorted =  cosine_similarity(vector_genres2,vector_genres2).argsort()[:,::-1] \n",
    "print(genre_sim_sorted[:1])"
   ]
  },
  {
   "cell_type": "code",
   "execution_count": 23,
   "id": "romance-favor",
   "metadata": {},
   "outputs": [
    {
     "data": {
      "text/plain": [
       "(45466, 45466)"
      ]
     },
     "execution_count": 23,
     "metadata": {},
     "output_type": "execute_result"
    }
   ],
   "source": [
    "genre_sim_sorted.shape"
   ]
  },
  {
   "cell_type": "code",
   "execution_count": 24,
   "id": "automotive-cameroon",
   "metadata": {},
   "outputs": [
    {
     "data": {
      "text/plain": [
       "array([[    0, 30729, 30861, ..., 27112, 27113, 22732],\n",
       "       [ 6101, 12614, 23473, ..., 29300, 29299, 22732],\n",
       "       [ 4668, 14556,  7378, ..., 27237, 27238, 22732],\n",
       "       ...,\n",
       "       [  344, 16766, 21162, ..., 25898, 25899,     0],\n",
       "       [45465, 15184, 15160, ..., 30306, 30305,     0],\n",
       "       [45465, 15184, 15160, ..., 30306, 30305,     0]], dtype=int64)"
      ]
     },
     "execution_count": 24,
     "metadata": {},
     "output_type": "execute_result"
    }
   ],
   "source": [
    "genre_sim_sorted"
   ]
  },
  {
   "cell_type": "markdown",
   "id": "varied-music",
   "metadata": {},
   "source": [
    "###  장르 코사인 유사"
   ]
  },
  {
   "cell_type": "code",
   "execution_count": 132,
   "id": "competent-variance",
   "metadata": {},
   "outputs": [],
   "source": [
    "def find_sim_movie(df, sorted_ind, title_name, top_n=10):\n",
    "    title_movie = df[df['title'] == title_name].sort_values('weighted_vote',ascending=False)[:1] #이름 중복 방지 #이름 중복 방지\n",
    "    title_index = title_movie.index.values\n",
    "    \n",
    "    # top_n의 2배에 해당하는 쟝르 유사성이 높은 index 추출\n",
    "    similar_indexes = sorted_ind[title_index, :(top_n*2)]\n",
    "    \n",
    "    #2차원 array를 1차원 array로 변경\n",
    "    similar_indexes = similar_indexes.reshape(-1)\n",
    "\n",
    "    # 기준 영화 index는 제외\n",
    "    similar_indexes = similar_indexes[similar_indexes != title_index]\n",
    "    \n",
    "    # top_n의 2배에 해당하는 후보군에서 weighted_vote 높은 순으로 top_n 만큼 추출 \n",
    "    return df.iloc[similar_indexes].sort_values('weighted_vote', ascending=False)[:top_n]"
   ]
  },
  {
   "cell_type": "markdown",
   "id": "objective-breathing",
   "metadata": {},
   "source": [
    "## 가중평점"
   ]
  },
  {
   "cell_type": "raw",
   "id": "third-rescue",
   "metadata": {},
   "source": [
    "가중평점(Weighted Rating):\n",
    "\n",
    "   (v/(v+m))*R + (m/(v+m))*C\n",
    "\n",
    "- v : 영화별 평점을 투표한 횟수(vote_count) ★ 투표횟수가 많은 영화에 가중치 부여\n",
    "- m : 평점을 부여하기 위한 최소 투표 횟수 -> 여기서는 투표수 상위 60%\n",
    "- R : 개별 영화에 대한 평균 평점(vote_average)\n",
    "- C : 전체 영화에 대한 평균 평점(movies_df['vote_average'].mean()\n",
    "\n",
    "* C, m 은 고정값\n",
    "* v, R은 영화마다 변동값"
   ]
  },
  {
   "cell_type": "code",
   "execution_count": 100,
   "id": "referenced-horizon",
   "metadata": {},
   "outputs": [],
   "source": [
    "C = movies_df['vote_average'].mean()\n",
    "m = movies_df['vote_count'].quantile(0.8)"
   ]
  },
  {
   "cell_type": "code",
   "execution_count": 101,
   "id": "molecular-egyptian",
   "metadata": {},
   "outputs": [
    {
     "name": "stdout",
     "output_type": "stream",
     "text": [
      "5.618 50.0\n"
     ]
    }
   ],
   "source": [
    "print(round(C,3) , round(m,3))"
   ]
  },
  {
   "cell_type": "code",
   "execution_count": 102,
   "id": "particular-sunday",
   "metadata": {},
   "outputs": [],
   "source": [
    "def weighted_rating(df):\n",
    "    v = df['vote_count']\n",
    "    R = df['vote_average']\n",
    "    \n",
    "    return (v/(v+m))*R + (m/(v+m))*C"
   ]
  },
  {
   "cell_type": "code",
   "execution_count": 103,
   "id": "entire-portrait",
   "metadata": {},
   "outputs": [],
   "source": [
    "movies_df['weighted_vote']= movies_df.apply(weighted_rating,axis=1)"
   ]
  },
  {
   "cell_type": "code",
   "execution_count": 104,
   "id": "sound-marks",
   "metadata": {},
   "outputs": [
    {
     "data": {
      "text/html": [
       "<div>\n",
       "<style scoped>\n",
       "    .dataframe tbody tr th:only-of-type {\n",
       "        vertical-align: middle;\n",
       "    }\n",
       "\n",
       "    .dataframe tbody tr th {\n",
       "        vertical-align: top;\n",
       "    }\n",
       "\n",
       "    .dataframe thead th {\n",
       "        text-align: right;\n",
       "    }\n",
       "</style>\n",
       "<table border=\"1\" class=\"dataframe\">\n",
       "  <thead>\n",
       "    <tr style=\"text-align: right;\">\n",
       "      <th></th>\n",
       "      <th>weighted_vote</th>\n",
       "      <th>title</th>\n",
       "      <th>vote_average</th>\n",
       "      <th>vote_count</th>\n",
       "      <th>genres</th>\n",
       "    </tr>\n",
       "  </thead>\n",
       "  <tbody>\n",
       "    <tr>\n",
       "      <th>10309</th>\n",
       "      <td>8.855148</td>\n",
       "      <td>Dilwale Dulhania Le Jayenge</td>\n",
       "      <td>9.1</td>\n",
       "      <td>661.0</td>\n",
       "      <td>[comedy, drama, romance]</td>\n",
       "    </tr>\n",
       "    <tr>\n",
       "      <th>314</th>\n",
       "      <td>8.482863</td>\n",
       "      <td>The Shawshank Redemption</td>\n",
       "      <td>8.5</td>\n",
       "      <td>8358.0</td>\n",
       "      <td>[drama, crime]</td>\n",
       "    </tr>\n",
       "    <tr>\n",
       "      <th>834</th>\n",
       "      <td>8.476278</td>\n",
       "      <td>The Godfather</td>\n",
       "      <td>8.5</td>\n",
       "      <td>6024.0</td>\n",
       "      <td>[drama, crime]</td>\n",
       "    </tr>\n",
       "    <tr>\n",
       "      <th>40251</th>\n",
       "      <td>8.366584</td>\n",
       "      <td>Your Name.</td>\n",
       "      <td>8.5</td>\n",
       "      <td>1030.0</td>\n",
       "      <td>[romance, animation, drama]</td>\n",
       "    </tr>\n",
       "    <tr>\n",
       "      <th>12481</th>\n",
       "      <td>8.289115</td>\n",
       "      <td>The Dark Knight</td>\n",
       "      <td>8.3</td>\n",
       "      <td>12269.0</td>\n",
       "      <td>[drama, action, crime, thriller]</td>\n",
       "    </tr>\n",
       "    <tr>\n",
       "      <th>2843</th>\n",
       "      <td>8.286216</td>\n",
       "      <td>Fight Club</td>\n",
       "      <td>8.3</td>\n",
       "      <td>9678.0</td>\n",
       "      <td>[drama]</td>\n",
       "    </tr>\n",
       "    <tr>\n",
       "      <th>292</th>\n",
       "      <td>8.284623</td>\n",
       "      <td>Pulp Fiction</td>\n",
       "      <td>8.3</td>\n",
       "      <td>8670.0</td>\n",
       "      <td>[thriller, crime]</td>\n",
       "    </tr>\n",
       "    <tr>\n",
       "      <th>522</th>\n",
       "      <td>8.270109</td>\n",
       "      <td>Schindler's List</td>\n",
       "      <td>8.3</td>\n",
       "      <td>4436.0</td>\n",
       "      <td>[drama, history, war]</td>\n",
       "    </tr>\n",
       "    <tr>\n",
       "      <th>23673</th>\n",
       "      <td>8.269704</td>\n",
       "      <td>Whiplash</td>\n",
       "      <td>8.3</td>\n",
       "      <td>4376.0</td>\n",
       "      <td>[drama]</td>\n",
       "    </tr>\n",
       "    <tr>\n",
       "      <th>5481</th>\n",
       "      <td>8.266628</td>\n",
       "      <td>Spirited Away</td>\n",
       "      <td>8.3</td>\n",
       "      <td>3968.0</td>\n",
       "      <td>[fantasy, adventure, animation, family]</td>\n",
       "    </tr>\n",
       "  </tbody>\n",
       "</table>\n",
       "</div>"
      ],
      "text/plain": [
       "       weighted_vote                        title  vote_average  vote_count  \\\n",
       "10309       8.855148  Dilwale Dulhania Le Jayenge           9.1       661.0   \n",
       "314         8.482863     The Shawshank Redemption           8.5      8358.0   \n",
       "834         8.476278                The Godfather           8.5      6024.0   \n",
       "40251       8.366584                   Your Name.           8.5      1030.0   \n",
       "12481       8.289115              The Dark Knight           8.3     12269.0   \n",
       "2843        8.286216                   Fight Club           8.3      9678.0   \n",
       "292         8.284623                 Pulp Fiction           8.3      8670.0   \n",
       "522         8.270109             Schindler's List           8.3      4436.0   \n",
       "23673       8.269704                     Whiplash           8.3      4376.0   \n",
       "5481        8.266628                Spirited Away           8.3      3968.0   \n",
       "\n",
       "                                        genres  \n",
       "10309                 [comedy, drama, romance]  \n",
       "314                             [drama, crime]  \n",
       "834                             [drama, crime]  \n",
       "40251              [romance, animation, drama]  \n",
       "12481         [drama, action, crime, thriller]  \n",
       "2843                                   [drama]  \n",
       "292                          [thriller, crime]  \n",
       "522                      [drama, history, war]  \n",
       "23673                                  [drama]  \n",
       "5481   [fantasy, adventure, animation, family]  "
      ]
     },
     "execution_count": 104,
     "metadata": {},
     "output_type": "execute_result"
    }
   ],
   "source": [
    "movies_df[['weighted_vote','title','vote_average','vote_count','genres']].sort_values('weighted_vote',ascending=False)[:10]"
   ]
  },
  {
   "cell_type": "code",
   "execution_count": 131,
   "id": "polar-semiconductor",
   "metadata": {},
   "outputs": [
    {
     "data": {
      "text/html": [
       "<div>\n",
       "<style scoped>\n",
       "    .dataframe tbody tr th:only-of-type {\n",
       "        vertical-align: middle;\n",
       "    }\n",
       "\n",
       "    .dataframe tbody tr th {\n",
       "        vertical-align: top;\n",
       "    }\n",
       "\n",
       "    .dataframe thead th {\n",
       "        text-align: right;\n",
       "    }\n",
       "</style>\n",
       "<table border=\"1\" class=\"dataframe\">\n",
       "  <thead>\n",
       "    <tr style=\"text-align: right;\">\n",
       "      <th></th>\n",
       "      <th>id</th>\n",
       "      <th>genres</th>\n",
       "      <th>imdb_id</th>\n",
       "      <th>original_language</th>\n",
       "      <th>original_title</th>\n",
       "      <th>title</th>\n",
       "      <th>vote_average</th>\n",
       "      <th>vote_count</th>\n",
       "      <th>genres_literal</th>\n",
       "      <th>weighted_vote</th>\n",
       "    </tr>\n",
       "  </thead>\n",
       "  <tbody>\n",
       "    <tr>\n",
       "      <th>40015</th>\n",
       "      <td>313297</td>\n",
       "      <td>[animation, adventure, family]</td>\n",
       "      <td>tt4302938</td>\n",
       "      <td>en</td>\n",
       "      <td>Kubo and the Two Strings</td>\n",
       "      <td>Kubo and the Two Strings</td>\n",
       "      <td>7.7</td>\n",
       "      <td>982.0</td>\n",
       "      <td>animation adventure family</td>\n",
       "      <td>7.599138</td>\n",
       "    </tr>\n",
       "    <tr>\n",
       "      <th>1798</th>\n",
       "      <td>10674</td>\n",
       "      <td>[animation, family, adventure]</td>\n",
       "      <td>tt0120762</td>\n",
       "      <td>en</td>\n",
       "      <td>Mulan</td>\n",
       "      <td>Mulan</td>\n",
       "      <td>7.6</td>\n",
       "      <td>2089.0</td>\n",
       "      <td>animation family adventure</td>\n",
       "      <td>7.553675</td>\n",
       "    </tr>\n",
       "    <tr>\n",
       "      <th>4391</th>\n",
       "      <td>12144</td>\n",
       "      <td>[animation, adventure, family]</td>\n",
       "      <td>tt0095489</td>\n",
       "      <td>en</td>\n",
       "      <td>The Land Before Time</td>\n",
       "      <td>The Land Before Time</td>\n",
       "      <td>7.0</td>\n",
       "      <td>660.0</td>\n",
       "      <td>animation adventure family</td>\n",
       "      <td>6.902691</td>\n",
       "    </tr>\n",
       "    <tr>\n",
       "      <th>28665</th>\n",
       "      <td>326359</td>\n",
       "      <td>[adventure, animation, family]</td>\n",
       "      <td>tt4007502</td>\n",
       "      <td>en</td>\n",
       "      <td>Frozen Fever</td>\n",
       "      <td>Frozen Fever</td>\n",
       "      <td>6.9</td>\n",
       "      <td>630.0</td>\n",
       "      <td>adventure animation family</td>\n",
       "      <td>6.805751</td>\n",
       "    </tr>\n",
       "    <tr>\n",
       "      <th>40969</th>\n",
       "      <td>136799</td>\n",
       "      <td>[adventure, animation, family]</td>\n",
       "      <td>tt1679335</td>\n",
       "      <td>en</td>\n",
       "      <td>Trolls</td>\n",
       "      <td>Trolls</td>\n",
       "      <td>6.7</td>\n",
       "      <td>1054.0</td>\n",
       "      <td>adventure animation family</td>\n",
       "      <td>6.651006</td>\n",
       "    </tr>\n",
       "    <tr>\n",
       "      <th>9115</th>\n",
       "      <td>9732</td>\n",
       "      <td>[animation, family, adventure]</td>\n",
       "      <td>tt0120131</td>\n",
       "      <td>en</td>\n",
       "      <td>The Lion King 2: Simba's Pride</td>\n",
       "      <td>The Lion King 2: Simba's Pride</td>\n",
       "      <td>6.7</td>\n",
       "      <td>1034.0</td>\n",
       "      <td>animation family adventure</td>\n",
       "      <td>6.650102</td>\n",
       "    </tr>\n",
       "    <tr>\n",
       "      <th>30526</th>\n",
       "      <td>223706</td>\n",
       "      <td>[animation, adventure, family]</td>\n",
       "      <td>tt3183630</td>\n",
       "      <td>pt</td>\n",
       "      <td>O Menino e o Mundo</td>\n",
       "      <td>Boy &amp; the World</td>\n",
       "      <td>7.0</td>\n",
       "      <td>69.0</td>\n",
       "      <td>animation adventure family</td>\n",
       "      <td>6.419415</td>\n",
       "    </tr>\n",
       "    <tr>\n",
       "      <th>23520</th>\n",
       "      <td>140870</td>\n",
       "      <td>[animation, adventure, family]</td>\n",
       "      <td>tt2368672</td>\n",
       "      <td>xx</td>\n",
       "      <td>Minuscule - La vallée des fourmis perdues</td>\n",
       "      <td>Minuscule: Valley of the Lost Ants</td>\n",
       "      <td>6.6</td>\n",
       "      <td>128.0</td>\n",
       "      <td>animation adventure family</td>\n",
       "      <td>6.324216</td>\n",
       "    </tr>\n",
       "    <tr>\n",
       "      <th>36436</th>\n",
       "      <td>286940</td>\n",
       "      <td>[family, animation, adventure]</td>\n",
       "      <td>tt3246908</td>\n",
       "      <td>en</td>\n",
       "      <td>The Boxcar Children</td>\n",
       "      <td>The Boxcar Children</td>\n",
       "      <td>7.6</td>\n",
       "      <td>7.0</td>\n",
       "      <td>family animation adventure</td>\n",
       "      <td>5.861585</td>\n",
       "    </tr>\n",
       "    <tr>\n",
       "      <th>40875</th>\n",
       "      <td>89825</td>\n",
       "      <td>[animation, adventure, family]</td>\n",
       "      <td>tt1734113</td>\n",
       "      <td>ja</td>\n",
       "      <td>おまえうまそうだな</td>\n",
       "      <td>You Are Umasou</td>\n",
       "      <td>7.0</td>\n",
       "      <td>10.0</td>\n",
       "      <td>animation adventure family</td>\n",
       "      <td>5.848506</td>\n",
       "    </tr>\n",
       "  </tbody>\n",
       "</table>\n",
       "</div>"
      ],
      "text/plain": [
       "           id                          genres    imdb_id original_language  \\\n",
       "40015  313297  [animation, adventure, family]  tt4302938                en   \n",
       "1798    10674  [animation, family, adventure]  tt0120762                en   \n",
       "4391    12144  [animation, adventure, family]  tt0095489                en   \n",
       "28665  326359  [adventure, animation, family]  tt4007502                en   \n",
       "40969  136799  [adventure, animation, family]  tt1679335                en   \n",
       "9115     9732  [animation, family, adventure]  tt0120131                en   \n",
       "30526  223706  [animation, adventure, family]  tt3183630                pt   \n",
       "23520  140870  [animation, adventure, family]  tt2368672                xx   \n",
       "36436  286940  [family, animation, adventure]  tt3246908                en   \n",
       "40875   89825  [animation, adventure, family]  tt1734113                ja   \n",
       "\n",
       "                                  original_title  \\\n",
       "40015                   Kubo and the Two Strings   \n",
       "1798                                       Mulan   \n",
       "4391                        The Land Before Time   \n",
       "28665                               Frozen Fever   \n",
       "40969                                     Trolls   \n",
       "9115              The Lion King 2: Simba's Pride   \n",
       "30526                         O Menino e o Mundo   \n",
       "23520  Minuscule - La vallée des fourmis perdues   \n",
       "36436                        The Boxcar Children   \n",
       "40875                                  おまえうまそうだな   \n",
       "\n",
       "                                    title  vote_average  vote_count  \\\n",
       "40015            Kubo and the Two Strings           7.7       982.0   \n",
       "1798                                Mulan           7.6      2089.0   \n",
       "4391                 The Land Before Time           7.0       660.0   \n",
       "28665                        Frozen Fever           6.9       630.0   \n",
       "40969                              Trolls           6.7      1054.0   \n",
       "9115       The Lion King 2: Simba's Pride           6.7      1034.0   \n",
       "30526                     Boy & the World           7.0        69.0   \n",
       "23520  Minuscule: Valley of the Lost Ants           6.6       128.0   \n",
       "36436                 The Boxcar Children           7.6         7.0   \n",
       "40875                      You Are Umasou           7.0        10.0   \n",
       "\n",
       "                   genres_literal  weighted_vote  \n",
       "40015  animation adventure family       7.599138  \n",
       "1798   animation family adventure       7.553675  \n",
       "4391   animation adventure family       6.902691  \n",
       "28665  adventure animation family       6.805751  \n",
       "40969  adventure animation family       6.651006  \n",
       "9115   animation family adventure       6.650102  \n",
       "30526  animation adventure family       6.419415  \n",
       "23520  animation adventure family       6.324216  \n",
       "36436  family animation adventure       5.861585  \n",
       "40875  animation adventure family       5.848506  "
      ]
     },
     "execution_count": 131,
     "metadata": {},
     "output_type": "execute_result"
    }
   ],
   "source": [
    "recomm_movies = find_sim_movie(movies_df,genre_sim_sorted,'Frozen',10)\n",
    "recomm_movies"
   ]
  },
  {
   "cell_type": "code",
   "execution_count": 130,
   "id": "opening-video",
   "metadata": {},
   "outputs": [
    {
     "data": {
      "text/html": [
       "<div>\n",
       "<style scoped>\n",
       "    .dataframe tbody tr th:only-of-type {\n",
       "        vertical-align: middle;\n",
       "    }\n",
       "\n",
       "    .dataframe tbody tr th {\n",
       "        vertical-align: top;\n",
       "    }\n",
       "\n",
       "    .dataframe thead th {\n",
       "        text-align: right;\n",
       "    }\n",
       "</style>\n",
       "<table border=\"1\" class=\"dataframe\">\n",
       "  <thead>\n",
       "    <tr style=\"text-align: right;\">\n",
       "      <th></th>\n",
       "      <th>id</th>\n",
       "      <th>genres</th>\n",
       "      <th>imdb_id</th>\n",
       "      <th>original_language</th>\n",
       "      <th>original_title</th>\n",
       "      <th>title</th>\n",
       "      <th>vote_average</th>\n",
       "      <th>vote_count</th>\n",
       "      <th>genres_literal</th>\n",
       "      <th>weighted_vote</th>\n",
       "    </tr>\n",
       "  </thead>\n",
       "  <tbody>\n",
       "    <tr>\n",
       "      <th>22110</th>\n",
       "      <td>109445</td>\n",
       "      <td>[animation, adventure, family]</td>\n",
       "      <td>tt2294629</td>\n",
       "      <td>en</td>\n",
       "      <td>Frozen</td>\n",
       "      <td>Frozen</td>\n",
       "      <td>7.3</td>\n",
       "      <td>5440.0</td>\n",
       "      <td>animation adventure family</td>\n",
       "      <td>7.284683</td>\n",
       "    </tr>\n",
       "    <tr>\n",
       "      <th>14926</th>\n",
       "      <td>44363</td>\n",
       "      <td>[thriller]</td>\n",
       "      <td>tt1323045</td>\n",
       "      <td>en</td>\n",
       "      <td>Frozen</td>\n",
       "      <td>Frozen</td>\n",
       "      <td>5.9</td>\n",
       "      <td>586.0</td>\n",
       "      <td>thriller</td>\n",
       "      <td>5.877846</td>\n",
       "    </tr>\n",
       "    <tr>\n",
       "      <th>16276</th>\n",
       "      <td>170986</td>\n",
       "      <td>[drama]</td>\n",
       "      <td>tt1071798</td>\n",
       "      <td>en</td>\n",
       "      <td>Frozen</td>\n",
       "      <td>Frozen</td>\n",
       "      <td>8.5</td>\n",
       "      <td>2.0</td>\n",
       "      <td>drama</td>\n",
       "      <td>5.729045</td>\n",
       "    </tr>\n",
       "  </tbody>\n",
       "</table>\n",
       "</div>"
      ],
      "text/plain": [
       "           id                          genres    imdb_id original_language  \\\n",
       "22110  109445  [animation, adventure, family]  tt2294629                en   \n",
       "14926   44363                      [thriller]  tt1323045                en   \n",
       "16276  170986                         [drama]  tt1071798                en   \n",
       "\n",
       "      original_title   title  vote_average  vote_count  \\\n",
       "22110         Frozen  Frozen           7.3      5440.0   \n",
       "14926         Frozen  Frozen           5.9       586.0   \n",
       "16276         Frozen  Frozen           8.5         2.0   \n",
       "\n",
       "                   genres_literal  weighted_vote  \n",
       "22110  animation adventure family       7.284683  \n",
       "14926                    thriller       5.877846  \n",
       "16276                       drama       5.729045  "
      ]
     },
     "execution_count": 130,
     "metadata": {},
     "output_type": "execute_result"
    }
   ],
   "source": [
    "movies_df[movies_df['title']=='Frozen'].sort_values('weighted_vote',ascending=False)"
   ]
  },
  {
   "cell_type": "code",
   "execution_count": null,
   "id": "unsigned-digest",
   "metadata": {},
   "outputs": [],
   "source": []
  }
 ],
 "metadata": {
  "kernelspec": {
   "display_name": "Python 3",
   "language": "python",
   "name": "python3"
  },
  "language_info": {
   "codemirror_mode": {
    "name": "ipython",
    "version": 3
   },
   "file_extension": ".py",
   "mimetype": "text/x-python",
   "name": "python",
   "nbconvert_exporter": "python",
   "pygments_lexer": "ipython3",
   "version": "3.7.9"
  }
 },
 "nbformat": 4,
 "nbformat_minor": 5
}
